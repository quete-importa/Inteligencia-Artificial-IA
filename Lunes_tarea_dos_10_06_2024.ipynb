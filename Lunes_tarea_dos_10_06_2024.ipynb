{
  "cells": [
    {
      "cell_type": "markdown",
      "metadata": {
        "id": "view-in-github",
        "colab_type": "text"
      },
      "source": [
        "<a href=\"https://colab.research.google.com/github/quete-importa/Inteligencia-Artificial-IA/blob/main/Lunes_tarea_dos_10_06_2024.ipynb\" target=\"_parent\"><img src=\"https://colab.research.google.com/assets/colab-badge.svg\" alt=\"Open In Colab\"/></a>"
      ]
    },
    {
      "cell_type": "code",
      "source": [
        "# prompt: como ver la vercion de python\n",
        "\n",
        "!python --version\n"
      ],
      "metadata": {
        "colab": {
          "base_uri": "https://localhost:8080/"
        },
        "id": "aXdLYUbE91_m",
        "outputId": "d769db9f-a1e9-441d-dac3-3da04fefdbec"
      },
      "execution_count": 1,
      "outputs": [
        {
          "output_type": "stream",
          "name": "stdout",
          "text": [
            "Python 3.10.12\n"
          ]
        }
      ]
    },
    {
      "cell_type": "code",
      "source": [
        "myNumber = 10\n",
        "myNumberDecimal = 3.6\n",
        "state=True\n"
      ],
      "metadata": {
        "id": "GAPicBpJCmVu"
      },
      "execution_count": 6,
      "outputs": []
    },
    {
      "cell_type": "code",
      "source": [
        "print(f'valor entero:{myNumber}')\n",
        "print(f'valor decimal:{myNumberDecimal}')\n",
        "print(f'valor bool es',state)"
      ],
      "metadata": {
        "id": "6h4z1f4dDQnJ",
        "outputId": "a1c7fbd7-81c9-400a-94a1-33ca1ed2f245",
        "colab": {
          "base_uri": "https://localhost:8080/"
        }
      },
      "execution_count": 12,
      "outputs": [
        {
          "output_type": "stream",
          "name": "stdout",
          "text": [
            "valor entero:10\n",
            "valor decimal:3.6\n",
            "valor bool es True\n"
          ]
        }
      ]
    },
    {
      "cell_type": "code",
      "source": [
        "uno= 19\n",
        "dos=2\n",
        "print('la suma de las variables uno y dos =:',uno+dos)\n",
        "print('la resta de las variables uno y dos =:',uno-dos)\n",
        "print('la divicion de las variables uno y dos =:',uno/dos)\n",
        "print('la multiplicaccion de las variables uno y dos =:',uno*dos)\n",
        "print('la potecia de las variables uno y dos =:',uno**dos)"
      ],
      "metadata": {
        "id": "Xd87CdJcESZ5",
        "outputId": "eecce449-e85d-4eba-c529-c2f7eac9cb2f",
        "colab": {
          "base_uri": "https://localhost:8080/"
        }
      },
      "execution_count": 17,
      "outputs": [
        {
          "output_type": "stream",
          "name": "stdout",
          "text": [
            "la suma de las variables uno y dos =: 21\n",
            "la resta de las variables uno y dos =: 17\n",
            "la divicion de las variables uno y dos =: 9.5\n",
            "la multiplicaccion de las variables uno y dos =: 38\n",
            "la potecia de las variables uno y dos =: 361\n"
          ]
        }
      ]
    },
    {
      "cell_type": "code",
      "source": [
        "var1= 'hola'\n",
        "var2= ' mundo'\n",
        "print(var1+var2)"
      ],
      "metadata": {
        "id": "z9PZKCTGF39H",
        "outputId": "654f43e5-fb78-4cd6-829e-4c4a3ae933f6",
        "colab": {
          "base_uri": "https://localhost:8080/"
        }
      },
      "execution_count": 19,
      "outputs": [
        {
          "output_type": "stream",
          "name": "stdout",
          "text": [
            "hola mundo\n"
          ]
        }
      ]
    },
    {
      "cell_type": "code",
      "source": [
        "print(3*var1)"
      ],
      "metadata": {
        "id": "DKmNTfeuGsXu",
        "outputId": "d8506c31-e02a-4376-da03-4176fc11b477",
        "colab": {
          "base_uri": "https://localhost:8080/"
        }
      },
      "execution_count": 20,
      "outputs": [
        {
          "output_type": "stream",
          "name": "stdout",
          "text": [
            "holaholahola\n"
          ]
        }
      ]
    },
    {
      "cell_type": "code",
      "source": [
        "num1=10\n",
        "num2=10.5\n"
      ],
      "metadata": {
        "id": "lOQlzrbkG3a6"
      },
      "execution_count": 21,
      "outputs": []
    },
    {
      "cell_type": "code",
      "source": [
        "print('el tipo de numero es',type(num1))\n",
        "print('el tipo de numero es',type(num2))"
      ],
      "metadata": {
        "id": "Ra0rgyB5HG6-",
        "outputId": "a74d4aef-9a14-4c0a-cd90-f183959afb8a",
        "colab": {
          "base_uri": "https://localhost:8080/"
        }
      },
      "execution_count": 23,
      "outputs": [
        {
          "output_type": "stream",
          "name": "stdout",
          "text": [
            "el tipo de numero es <class 'int'>\n",
            "el tipo de numero es <class 'float'>\n"
          ]
        }
      ]
    }
  ],
  "metadata": {
    "colab": {
      "name": "Te damos la bienvenida a Colaboratory",
      "toc_visible": true,
      "provenance": [],
      "include_colab_link": true
    },
    "kernelspec": {
      "display_name": "Python 3",
      "name": "python3"
    }
  },
  "nbformat": 4,
  "nbformat_minor": 0
}