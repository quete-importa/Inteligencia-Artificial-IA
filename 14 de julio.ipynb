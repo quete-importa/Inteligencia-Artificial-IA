{
  "nbformat": 4,
  "nbformat_minor": 0,
  "metadata": {
    "colab": {
      "provenance": [],
      "authorship_tag": "ABX9TyMkQJVDYhbFuzunONsLHZbG",
      "include_colab_link": true
    },
    "kernelspec": {
      "name": "python3",
      "display_name": "Python 3"
    },
    "language_info": {
      "name": "python"
    }
  },
  "cells": [
    {
      "cell_type": "markdown",
      "metadata": {
        "id": "view-in-github",
        "colab_type": "text"
      },
      "source": [
        "<a href=\"https://colab.research.google.com/github/quete-importa/Inteligencia-Artificial-IA/blob/main/tarea_Domingo.ipynb\" target=\"_parent\"><img src=\"https://colab.research.google.com/assets/colab-badge.svg\" alt=\"Open In Colab\"/></a>"
      ]
    },
    {
      "cell_type": "code",
      "source": [
        "#numero 1 version de python\n",
        "import numpy as np\n",
        "\n",
        "print(np.__version__)\n"
      ],
      "metadata": {
        "colab": {
          "base_uri": "https://localhost:8080/"
        },
        "id": "sx6tiis4DZcV",
        "outputId": "474cea4a-1ef4-437a-db60-493db7262e63"
      },
      "execution_count": null,
      "outputs": [
        {
          "output_type": "stream",
          "name": "stdout",
          "text": [
            "1.25.2\n"
          ]
        }
      ]
    },
    {
      "cell_type": "code",
      "source": [
        "#numero 2 numeros del 0 al 9\n",
        "import numpy as np\n",
        "\n",
        "arr = np.arange(10)\n",
        "\n",
        "print(arr)\n"
      ],
      "metadata": {
        "colab": {
          "base_uri": "https://localhost:8080/"
        },
        "id": "hYOVmwM3D14N",
        "outputId": "c789e753-2d5c-442c-d30f-2e3cb53c6a70"
      },
      "execution_count": null,
      "outputs": [
        {
          "output_type": "stream",
          "name": "stdout",
          "text": [
            "[0 1 2 3 4 5 6 7 8 9]\n"
          ]
        }
      ]
    },
    {
      "cell_type": "code",
      "source": [
        "#numero 3 crear numero de diez digitos y cambiar el mayor por 0\n",
        "import numpy as np\n",
        "\n",
        "\n",
        "vector = np.random.rand(10)\n",
        "\n",
        "\n",
        "print(\"Vector original:\", vector)\n",
        "\n",
        "\n",
        "max = np.argmax(vector)\n",
        "\n",
        "\n",
        "vector[max] = 0\n",
        "\n",
        "\n",
        "print(\"Vector modificado:\", vector)\n"
      ],
      "metadata": {
        "colab": {
          "base_uri": "https://localhost:8080/"
        },
        "id": "ICoR9i6IEUsC",
        "outputId": "3f8b3093-5c86-4bba-81e0-f9a3f82772ea"
      },
      "execution_count": null,
      "outputs": [
        {
          "output_type": "stream",
          "name": "stdout",
          "text": [
            "Vector original: [0.80650783 0.41942449 0.66373608 0.88581832 0.3563811  0.97822546\n",
            " 0.22654828 0.97478799 0.9210354  0.43653968]\n",
            "Vector modificado: [0.80650783 0.41942449 0.66373608 0.88581832 0.3563811  0.\n",
            " 0.22654828 0.97478799 0.9210354  0.43653968]\n"
          ]
        }
      ]
    },
    {
      "cell_type": "code",
      "source": [
        "#numero 4 presenter el numero 8 de la siguiente Matriz\n",
        "arr= np.array([[1, 2, 3, 4, 5], [6, 7, 8, 9, 10]])\n",
        "\n",
        "\n",
        "numero_ocho = arr[1, 2]\n",
        "\n",
        "\n",
        "print(numero_ocho)\n",
        "\n"
      ],
      "metadata": {
        "colab": {
          "base_uri": "https://localhost:8080/"
        },
        "id": "mjxYM0NfFF-t",
        "outputId": "93ef5dff-634e-4871-fffb-5fe23722ec8c"
      },
      "execution_count": null,
      "outputs": [
        {
          "output_type": "stream",
          "name": "stdout",
          "text": [
            "8\n"
          ]
        }
      ]
    },
    {
      "cell_type": "code",
      "source": [
        "#numero 5 de los siguientes numeros presentar los numeros del 3 al 5\n",
        "import numpy as np\n",
        "\n",
        "\n",
        "arr = np.array([1, 2, 3, 4, 5, 6, 7])\n",
        "\n",
        "\n",
        "subarray = arr[2:5]\n",
        "\n",
        "print( subarray)\n"
      ],
      "metadata": {
        "colab": {
          "base_uri": "https://localhost:8080/"
        },
        "id": "eW1eZXHIGCPm",
        "outputId": "4f2f9acd-487c-49f8-8b76-e82c046b757c"
      },
      "execution_count": null,
      "outputs": [
        {
          "output_type": "stream",
          "name": "stdout",
          "text": [
            "[3 4 5]\n"
          ]
        }
      ]
    },
    {
      "cell_type": "code",
      "source": [
        "\n",
        "# numero 6 presentar los ultimos 4 numeros\n",
        "arr = np.array([1, 2, 3, 4, 5, 6, 7])\n",
        "\n",
        "last_four = arr[-4:]\n",
        "\n",
        "\n",
        "print(last_four)\n"
      ],
      "metadata": {
        "colab": {
          "base_uri": "https://localhost:8080/"
        },
        "id": "oOiBKQK-HmI8",
        "outputId": "5cd1ddfd-3c7b-466b-e63c-ef3310b3338b"
      },
      "execution_count": null,
      "outputs": [
        {
          "output_type": "stream",
          "name": "stdout",
          "text": [
            "[4 5 6 7]\n"
          ]
        }
      ]
    },
    {
      "cell_type": "code",
      "source": [
        "#numero 7 crear un arreglo de 3x3 y que todos sean true\n",
        "import numpy as np\n",
        "\n",
        "# Crear un arreglo 3x3 de todos True\n",
        "arr_true = np.full((3, 3), True)\n",
        "\n",
        "# Imprimir el resultado\n",
        "print(arr_true)\n"
      ],
      "metadata": {
        "colab": {
          "base_uri": "https://localhost:8080/"
        },
        "id": "lFPQZxCIzdl6",
        "outputId": "ab359508-8228-4fdb-cf5f-a7ac23e34e4f"
      },
      "execution_count": null,
      "outputs": [
        {
          "output_type": "stream",
          "name": "stdout",
          "text": [
            "[[ True  True  True]\n",
            " [ True  True  True]\n",
            " [ True  True  True]]\n"
          ]
        }
      ]
    },
    {
      "cell_type": "code",
      "source": [
        "# Numero 8 Extraer todos los números impares de arr\n",
        "import numpy as np\n",
        "\n",
        "# Definir el arreglo arr\n",
        "arr = np.array([1, 2, 3, 4, 5, 6, 7, 8, 9, 10])\n",
        "\n",
        "# Crear una máscara booleana para los números impares\n",
        "odd_mask = arr % 2 == 1\n",
        "\n",
        "# Extraer los números impares usando la máscara\n",
        "odd_numbers = arr[odd_mask]\n",
        "\n",
        "# Imprimir el resultado\n",
        "print(\"Números impares del arreglo:\", odd_numbers)\n"
      ],
      "metadata": {
        "colab": {
          "base_uri": "https://localhost:8080/"
        },
        "id": "rbz2sFgtzsj5",
        "outputId": "ee90e430-be7f-439d-f17b-f564e6ff124a"
      },
      "execution_count": null,
      "outputs": [
        {
          "output_type": "stream",
          "name": "stdout",
          "text": [
            "Números impares del arreglo: [1 3 5 7 9]\n"
          ]
        }
      ]
    },
    {
      "cell_type": "code",
      "source": [
        "#Numero 9\n",
        "import numpy as np\n",
        "\n",
        "# Crear un vector con valores desde 10 hasta 49\n",
        "vector = np.arange(10, 50)\n",
        "\n",
        "# Imprimir el resultado\n",
        "print(vector)\n"
      ],
      "metadata": {
        "colab": {
          "base_uri": "https://localhost:8080/"
        },
        "id": "JdmkHr4p0y_N",
        "outputId": "46795f79-47c0-436f-a7f0-eee534af34d2"
      },
      "execution_count": null,
      "outputs": [
        {
          "output_type": "stream",
          "name": "stdout",
          "text": [
            "[10 11 12 13 14 15 16 17 18 19 20 21 22 23 24 25 26 27 28 29 30 31 32 33\n",
            " 34 35 36 37 38 39 40 41 42 43 44 45 46 47 48 49]\n"
          ]
        }
      ]
    },
    {
      "cell_type": "code",
      "source": [
        "#Numero 10 Invertir un vector (el primer elemento se convierte en el último)\n",
        "\n",
        "import numpy as np\n",
        "\n",
        "# Crear un vector de ejemplo\n",
        "vector = np.arange(10, 50)\n",
        "\n",
        "# Invertir el vector\n",
        "vector_invertido = vector[::-1]\n",
        "\n",
        "# Imprimir el resultado\n",
        "print(\"Vector original:\", vector)\n",
        "print(\"Vector invertido:\", vector_invertido)\n"
      ],
      "metadata": {
        "colab": {
          "base_uri": "https://localhost:8080/"
        },
        "id": "5atsV8wZ1GVE",
        "outputId": "e11259ea-a899-4844-f061-155d245c5bfb"
      },
      "execution_count": null,
      "outputs": [
        {
          "output_type": "stream",
          "name": "stdout",
          "text": [
            "Vector original: [10 11 12 13 14 15 16 17 18 19 20 21 22 23 24 25 26 27 28 29 30 31 32 33\n",
            " 34 35 36 37 38 39 40 41 42 43 44 45 46 47 48 49]\n",
            "Vector invertido: [49 48 47 46 45 44 43 42 41 40 39 38 37 36 35 34 33 32 31 30 29 28 27 26\n",
            " 25 24 23 22 21 20 19 18 17 16 15 14 13 12 11 10]\n"
          ]
        }
      ]
    },
    {
      "cell_type": "code",
      "source": [
        "# Numero 11 crear un arreglo 10x10 con valores enteros aleatorios y encontrar los valores mínimo y máximo\n",
        "\n",
        "import numpy as np\n",
        "\n",
        "# Crear un arreglo 10x10 con valores enteros aleatorios entre 0 y 100\n",
        "arr = np.random.randint(0, 100, size=(10, 10))\n",
        "\n",
        "# Encontrar el valor mínimo\n",
        "min_value = np.min(arr)\n",
        "\n",
        "# Encontrar el valor máximo\n",
        "max_value = np.max(arr)\n",
        "\n",
        "# Imprimir el arreglo, el valor mínimo y el valor máximo\n",
        "print(\"Arreglo 10x10 con valores enteros aleatorios:\")\n",
        "print(arr)\n",
        "print(\"Valor mínimo:\", min_value)\n",
        "print(\"Valor máximo:\", max_value)\n"
      ],
      "metadata": {
        "colab": {
          "base_uri": "https://localhost:8080/"
        },
        "id": "WouoncLx3Wj_",
        "outputId": "49462cd7-095a-4047-c3fb-660e6cc45f54"
      },
      "execution_count": null,
      "outputs": [
        {
          "output_type": "stream",
          "name": "stdout",
          "text": [
            "Arreglo 10x10 con valores enteros aleatorios:\n",
            "[[15 22 96 96 53 50 74  3 82 86]\n",
            " [ 6 90 22 47 29 76 74  1 58 16]\n",
            " [41 72 40 69 43 85  0 77 99 49]\n",
            " [47 82  8  5 65 75  2 25 42 19]\n",
            " [27 12 91 83 10 60 96 41 13 54]\n",
            " [75 28 69 22 99 74 94 43 44 26]\n",
            " [41 56 23 97 76 70 64 75 62 55]\n",
            " [17 16 98 71 60 93 17 59 49 58]\n",
            " [49  0 29 39 81 17 58  8 53 51]\n",
            " [92 85 76 47 65 95  7  1 92  0]]\n",
            "Valor mínimo: 0\n",
            "Valor máximo: 99\n"
          ]
        }
      ]
    },
    {
      "cell_type": "code",
      "source": [
        "#Numero 12 crear un arreglo de 3x3x3 con valores aleatorios\n",
        "\n",
        "import numpy as np\n",
        "\n",
        "# Crear un arreglo 3x3x3 con valores aleatorios\n",
        "arr = np.random.random((3, 3, 3))\n",
        "\n",
        "# Imprimir el arreglo\n",
        "print(\"Arreglo 3x3x3 con valores aleatorios:\")\n",
        "print(arr)\n"
      ],
      "metadata": {
        "colab": {
          "base_uri": "https://localhost:8080/"
        },
        "id": "_NviRZLb4BoR",
        "outputId": "193e1e2a-9448-4dda-f3f2-8288a7704dc7"
      },
      "execution_count": null,
      "outputs": [
        {
          "output_type": "stream",
          "name": "stdout",
          "text": [
            "Arreglo 3x3x3 con valores aleatorios:\n",
            "[[[0.90701299 0.97220894 0.68127611]\n",
            "  [0.06291429 0.91724977 0.77483262]\n",
            "  [0.63006599 0.33322795 0.39521085]]\n",
            "\n",
            " [[0.72229697 0.48063565 0.09219793]\n",
            "  [0.73506537 0.95082524 0.372838  ]\n",
            "  [0.09834023 0.36944799 0.06746242]]\n",
            "\n",
            " [[0.04532256 0.4298329  0.69100166]\n",
            "  [0.71114529 0.35362441 0.99941384]\n",
            "  [0.58569581 0.54288813 0.93105692]]]\n"
          ]
        }
      ]
    },
    {
      "cell_type": "code",
      "source": [
        "#Numero 13 reemplazar todos los números impares en arr con -1\n",
        "\n",
        "import numpy as np\n",
        "\n",
        "# Definir el arreglo arr\n",
        "arr = np.array([[1, 2, 3], [4, 5, 6], [7, 8, 9]])\n",
        "\n",
        "# Crear una copia del arreglo para mantener el original\n",
        "arr_modified = arr.copy()\n",
        "\n",
        "# Reemplazar los números impares con -1\n",
        "arr_modified[arr_modified % 2 != 0] = -1\n",
        "\n",
        "# Imprimir el arreglo modificado\n",
        "print(\"Arreglo modificado con números impares reemplazados por -1:\")\n",
        "print(arr_modified)\n"
      ],
      "metadata": {
        "colab": {
          "base_uri": "https://localhost:8080/"
        },
        "id": "pGGME1lP5CAe",
        "outputId": "bdb8e13e-e29d-45dc-f215-d8bd92592a07"
      },
      "execution_count": null,
      "outputs": [
        {
          "output_type": "stream",
          "name": "stdout",
          "text": [
            "Arreglo modificado con números impares reemplazados por -1:\n",
            "[[-1  2 -1]\n",
            " [ 4 -1  6]\n",
            " [-1  8 -1]]\n"
          ]
        }
      ]
    },
    {
      "cell_type": "code",
      "source": [
        "#Numero 14 crear un arreglo de tipo float\n",
        "\n",
        "import numpy as np\n",
        "\n",
        "# Crear un arreglo de tipo float\n",
        "arr_float = np.array([1.0, 2.5, 3.7, 4.2, 5.9])\n",
        "\n",
        "# Imprimir el arreglo y su tipo de dato\n",
        "print(\"Arreglo de tipo float:\", arr_float)\n",
        "print(\"Tipo de dato del arreglo:\", arr_float.dtype)\n"
      ],
      "metadata": {
        "colab": {
          "base_uri": "https://localhost:8080/"
        },
        "id": "6gHkzL6P5ULP",
        "outputId": "85e8e3c9-602e-4ce4-b8aa-1529e7edb22a"
      },
      "execution_count": null,
      "outputs": [
        {
          "output_type": "stream",
          "name": "stdout",
          "text": [
            "Arreglo de tipo float: [1.  2.5 3.7 4.2 5.9]\n",
            "Tipo de dato del arreglo: float64\n"
          ]
        }
      ]
    },
    {
      "cell_type": "code",
      "source": [
        "#Numero 15 convertir un arreglo 1D a un arreglo 2D con 2 filas\n",
        "\n",
        "import numpy as np\n",
        "\n",
        "# Arreglo 1D de ejemplo\n",
        "arr_1d = np.array([1, 2, 3, 4, 5, 6])\n",
        "\n",
        "# Convertir a un arreglo 2D con 2 filas\n",
        "arr_2d = np.reshape(arr_1d, (2, -1))\n",
        "\n",
        "# Imprimir el arreglo original y el arreglo convertido\n",
        "print(\"Arreglo 1D original:\")\n",
        "print(arr_1d)\n",
        "print(\"Arreglo 2D con 2 filas:\")\n",
        "print(arr_2d)\n"
      ],
      "metadata": {
        "colab": {
          "base_uri": "https://localhost:8080/"
        },
        "id": "T9r0J3OU5smG",
        "outputId": "e94fe438-da25-4a6d-b3bb-45fed4bea38a"
      },
      "execution_count": null,
      "outputs": [
        {
          "output_type": "stream",
          "name": "stdout",
          "text": [
            "Arreglo 1D original:\n",
            "[1 2 3 4 5 6]\n",
            "Arreglo 2D con 2 filas:\n",
            "[[1 2 3]\n",
            " [4 5 6]]\n"
          ]
        }
      ]
    },
    {
      "cell_type": "code",
      "source": [
        "#numero 16 cómo encontrar los valores comunes entre dos arreglos\n",
        "\n",
        "import numpy as np\n",
        "\n",
        "# Definir dos arreglos aleatorios\n",
        "Z1 = np.random.randint(0, 10, 10)\n",
        "Z2 = np.random.randint(0, 10, 10)\n",
        "\n",
        "# Encontrar los valores comunes entre Z1 y Z2\n",
        "common_values = np.intersect1d(Z1, Z2)\n",
        "\n",
        "# Imprimir los arreglos y los valores comunes\n",
        "print(\"Primer arreglo Z1:\")\n",
        "print(Z1)\n",
        "print(\"Segundo arreglo Z2:\")\n",
        "print(Z2)\n",
        "print(\"Valores comunes entre Z1 y Z2:\")\n",
        "print(common_values)\n"
      ],
      "metadata": {
        "colab": {
          "base_uri": "https://localhost:8080/"
        },
        "id": "Fkvk2Kk-6ZDR",
        "outputId": "8f945b7b-401d-40b6-8c6c-7e856d9af874"
      },
      "execution_count": null,
      "outputs": [
        {
          "output_type": "stream",
          "name": "stdout",
          "text": [
            "Primer arreglo Z1:\n",
            "[8 5 3 5 9 1 9 2 1 3]\n",
            "Segundo arreglo Z2:\n",
            "[3 3 8 4 7 1 7 0 9 6]\n",
            "Valores comunes entre Z1 y Z2:\n",
            "[1 3 8 9]\n"
          ]
        }
      ]
    },
    {
      "cell_type": "code",
      "source": [
        "#Numero 17 considerar dos arreglos aleatorios A y B, verificar si son iguales\n",
        "\n",
        "import numpy as np\n",
        "\n",
        "# Definir dos arreglos aleatorios A y B\n",
        "A = np.random.randint(0, 2, 5)\n",
        "B = np.random.randint(0, 2, 5)\n",
        "\n",
        "# Verificar si los arreglos A y B son iguales\n",
        "are_equal = np.array_equal(A, B)\n",
        "\n",
        "# Imprimir los arreglos y el resultado de la comparación\n",
        "print(\"Arreglo A aleatorio:\", A)\n",
        "print(\"Arreglo B aleatorio:\", B)\n",
        "if are_equal:\n",
        "    print(\"A y B son iguales.\")\n",
        "else:\n",
        "    print(\"A y B no son iguales.\")\n"
      ],
      "metadata": {
        "id": "MI-Co9Bn6wuy",
        "colab": {
          "base_uri": "https://localhost:8080/"
        },
        "outputId": "b94d5abd-8de6-4416-8331-aa61637692bc"
      },
      "execution_count": 12,
      "outputs": [
        {
          "output_type": "stream",
          "name": "stdout",
          "text": [
            "Arreglo A aleatorio: [1 0 1 0 1]\n",
            "Arreglo B aleatorio: [0 0 1 0 1]\n",
            "A y B no son iguales.\n"
          ]
        }
      ]
    },
    {
      "cell_type": "code",
      "source": [
        "#Numero 18 apilar los arreglos a y b verticalmente\n",
        "\n",
        "import numpy as np\n",
        "\n",
        "# Definir dos arreglos a y b\n",
        "a = np.array([[1, 2, 3], [4, 5, 6]])\n",
        "b = np.array([[7, 8, 9], [10, 11, 12]])\n",
        "\n",
        "# Apilar a y b verticalmente\n",
        "stacked = np.vstack((a, b))\n",
        "\n",
        "# Imprimir el resultado\n",
        "print(\"Arreglo apilado verticalmente:\")\n",
        "print(stacked)\n"
      ],
      "metadata": {
        "colab": {
          "base_uri": "https://localhost:8080/"
        },
        "id": "YXJgW0627N5C",
        "outputId": "ba782881-79ff-4df0-d821-51b20c5053b7"
      },
      "execution_count": 13,
      "outputs": [
        {
          "output_type": "stream",
          "name": "stdout",
          "text": [
            "Arreglo apilado verticalmente:\n",
            "[[ 1  2  3]\n",
            " [ 4  5  6]\n",
            " [ 7  8  9]\n",
            " [10 11 12]]\n"
          ]
        }
      ]
    },
    {
      "cell_type": "code",
      "source": [
        "#Numero 19 apilar los arreglos a y b horizontalmente\n",
        "\n",
        "import numpy as np\n",
        "\n",
        "# Definir dos arreglos a y b\n",
        "a = np.array([[1, 2, 3], [4, 5, 6]])\n",
        "b = np.array([[7, 8, 9], [10, 11, 12]])\n",
        "\n",
        "# Apilar a y b horizontalmente\n",
        "stacked = np.hstack((a, b))\n",
        "\n",
        "# Imprimir el resultado\n",
        "print(\"Arreglo apilado horizontalmente:\")\n",
        "print(stacked)\n"
      ],
      "metadata": {
        "colab": {
          "base_uri": "https://localhost:8080/"
        },
        "id": "tZNCmL2Y97ma",
        "outputId": "328492d9-03eb-4ddf-fc03-d0773c377e22"
      },
      "execution_count": 14,
      "outputs": [
        {
          "output_type": "stream",
          "name": "stdout",
          "text": [
            "Arreglo apilado horizontalmente:\n",
            "[[ 1  2  3  7  8  9]\n",
            " [ 4  5  6 10 11 12]]\n"
          ]
        }
      ]
    },
    {
      "cell_type": "code",
      "source": [
        "#numero 20 obtener todos los elementos entre 5 y 10 del arreglo tmp\n",
        "import numpy as np\n",
        "\n",
        "# Definir el arreglo tmp\n",
        "tmp = np.arange(15)\n",
        "\n",
        "# Obtener los elementos entre 5 y 10 (inclusivos)\n",
        "items_between_5_and_10 = tmp[(tmp >= 5) & (tmp <= 10)]\n",
        "\n",
        "# Imprimir el resultado\n",
        "print(\"Elementos entre 5 y 10 en el arreglo tmp:\")\n",
        "print(items_between_5_and_10)\n"
      ],
      "metadata": {
        "colab": {
          "base_uri": "https://localhost:8080/"
        },
        "id": "LgWm54_8-ILJ",
        "outputId": "61547b05-ebe2-492c-8c67-d0c8715c49fe"
      },
      "execution_count": 15,
      "outputs": [
        {
          "output_type": "stream",
          "name": "stdout",
          "text": [
            "Elementos entre 5 y 10 en el arreglo tmp:\n",
            "[ 5  6  7  8  9 10]\n"
          ]
        }
      ]
    },
    {
      "cell_type": "code",
      "source": [
        "#numero 21 cómo hacer una función en Python que maneje escalares para trabajar en arreglos de numpy\n",
        "\n",
        "import numpy as np\n",
        "\n",
        "def pair_max(a, b):\n",
        "    \"\"\"Obtener el máximo entre dos arreglos de numpy elemento por elemento\"\"\"\n",
        "    return np.vectorize(max)(a, b)\n",
        "\n",
        "# Ejemplo de uso\n",
        "a = np.array([5, 7, 9, 8, 6, 4, 5])\n",
        "b = np.array([6, 3, 4, 8, 9, 7, 1])\n",
        "\n",
        "resultado = pair_max(a, b)\n",
        "print(resultado)\n"
      ],
      "metadata": {
        "colab": {
          "base_uri": "https://localhost:8080/"
        },
        "id": "KefTya_y-vG5",
        "outputId": "8bff0087-3262-47fc-8b1e-9355737f126b"
      },
      "execution_count": 16,
      "outputs": [
        {
          "output_type": "stream",
          "name": "stdout",
          "text": [
            "[6 7 9 8 9 7 5]\n"
          ]
        }
      ]
    },
    {
      "cell_type": "code",
      "source": [
        "#numero 22 intercambiar las columnas 1 y 2 en el arreglo arr\n",
        "\n",
        "import numpy as np\n",
        "\n",
        "# Definir el arreglo arr\n",
        "arr = np.arange(9).reshape(3, 3)\n",
        "print(\"Arreglo original:\")\n",
        "print(arr)\n",
        "\n",
        "# Intercambiar las columnas 1 y 2\n",
        "arr[:, [1, 2]] = arr[:, [2, 1]]\n",
        "\n",
        "# Imprimir el resultado\n",
        "print(\"Arreglo con columnas 1 y 2 intercambiadas:\")\n",
        "print(arr)\n"
      ],
      "metadata": {
        "colab": {
          "base_uri": "https://localhost:8080/"
        },
        "id": "NdNIp2xT_Opc",
        "outputId": "b01e2662-9ddb-4d2e-ba93-7a899335fd97"
      },
      "execution_count": 17,
      "outputs": [
        {
          "output_type": "stream",
          "name": "stdout",
          "text": [
            "Arreglo original:\n",
            "[[0 1 2]\n",
            " [3 4 5]\n",
            " [6 7 8]]\n",
            "Arreglo con columnas 1 y 2 intercambiadas:\n",
            "[[0 2 1]\n",
            " [3 5 4]\n",
            " [6 8 7]]\n"
          ]
        }
      ]
    },
    {
      "cell_type": "code",
      "source": [
        "#Numero 23 crear un arreglo 2D de forma 5x3 que contenga números decimales aleatorios entre 5 y 10\n",
        "\n",
        "import numpy as np\n",
        "\n",
        "# Crear un arreglo 2D de forma 5x3 con números decimales aleatorios entre 5 y 10\n",
        "arr = np.random.uniform(5, 10, size=(5, 3))\n",
        "\n",
        "# Imprimir el resultado\n",
        "print(\"Arreglo 2D de forma 5x3 con números aleatorios entre 5 y 10:\")\n",
        "print(arr)\n"
      ],
      "metadata": {
        "colab": {
          "base_uri": "https://localhost:8080/"
        },
        "id": "3aXOW8Zd_qLT",
        "outputId": "eff3d319-6936-4c60-d285-15f876ad8c8d"
      },
      "execution_count": 18,
      "outputs": [
        {
          "output_type": "stream",
          "name": "stdout",
          "text": [
            "Arreglo 2D de forma 5x3 con números aleatorios entre 5 y 10:\n",
            "[[8.45560436 9.531083   6.25717354]\n",
            " [9.37498171 8.4908614  7.30680599]\n",
            " [9.96588767 6.32184243 8.48987031]\n",
            " [9.89156636 7.14345077 5.85258629]\n",
            " [5.42728921 7.81066929 9.50376933]]\n"
          ]
        }
      ]
    }
  ]
}
