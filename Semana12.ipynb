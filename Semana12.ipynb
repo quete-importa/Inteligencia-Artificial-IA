{
  "nbformat": 4,
  "nbformat_minor": 0,
  "metadata": {
    "colab": {
      "provenance": [],
      "include_colab_link": true
    },
    "kernelspec": {
      "name": "python3",
      "display_name": "Python 3"
    },
    "language_info": {
      "name": "python"
    }
  },
  "cells": [
    {
      "cell_type": "markdown",
      "metadata": {
        "id": "view-in-github",
        "colab_type": "text"
      },
      "source": [
        "<a href=\"https://colab.research.google.com/github/quete-importa/Inteligencia-Artificial-IA/blob/main/Semana12.ipynb\" target=\"_parent\"><img src=\"https://colab.research.google.com/assets/colab-badge.svg\" alt=\"Open In Colab\"/></a>"
      ]
    },
    {
      "cell_type": "code",
      "execution_count": null,
      "metadata": {
        "colab": {
          "base_uri": "https://localhost:8080/"
        },
        "collapsed": true,
        "id": "f8yu7kA_yHQe",
        "outputId": "4f56daed-3660-4cea-f07a-08ceca0e6692"
      },
      "outputs": [
        {
          "output_type": "stream",
          "name": "stdout",
          "text": [
            "{3}\n",
            "{True, 3, 'Dilan'}\n",
            "{True, 5, 3, 'Dilan'}\n",
            "{True, 5, 3}\n",
            "3\n",
            "True\n",
            "True\n",
            "5\n",
            "3\n"
          ]
        }
      ],
      "source": [
        "#set as a container\n",
        "var1=set()\n",
        "var1.add(3)\n",
        "print(var1)\n",
        "var1.add('Jose')\n",
        "var1.add(True)\n",
        "print(var1)\n",
        "var1.add(5)\n",
        "print(var1)\n",
        "var1.remove('Jose')\n",
        "print(var1)\n",
        "\n",
        "\n",
        "print(len(var1))\n",
        "\n",
        "print(3 in var1)\n",
        "\n",
        "for elem in var1:\n",
        "    print(elem)"
      ]
    },
    {
      "cell_type": "code",
      "source": [
        "#TUPLES\n",
        "var2=tuple()\n",
        "var=tuple([1,2,3,4])\n",
        "print(type(var))\n",
        "aux=list(var)\n",
        "print(type(aux))\n",
        "\n",
        "aux[2]=300\n",
        "var=tuple(aux)\n",
        "print(var)\n",
        "print(type[var])"
      ],
      "metadata": {
        "colab": {
          "base_uri": "https://localhost:8080/"
        },
        "id": "YK_kqfdzzWoK",
        "outputId": "da4a39d3-b63b-40e5-f64f-7ca2798d6b7c"
      },
      "execution_count": null,
      "outputs": [
        {
          "output_type": "stream",
          "name": "stdout",
          "text": [
            "<class 'tuple'>\n",
            "<class 'list'>\n",
            "(1, 2, 300, 4)\n",
            "type[1, 2, 300, 4]\n"
          ]
        }
      ]
    },
    {
      "cell_type": "code",
      "source": [
        "from os import name\n",
        "#HOW TO DEFINE A CLASS\n",
        "class saludo(object):\n",
        "  def __init__(self,name):\n",
        "     print(\"El objeto ha sido creado\")\n",
        "     self .name=name\n",
        "\n",
        "  def saludoPersonal(self):\n",
        "    return f\"Hola , {self.name}\"\n",
        "\n",
        "name1=saludo('Jose')\n",
        "name2=saludo('Chavez')\n",
        "\n",
        "print(name1.saludoPersonal())\n",
        "print(name2.saludoPersonal())"
      ],
      "metadata": {
        "colab": {
          "base_uri": "https://localhost:8080/"
        },
        "id": "2cpihRgr2awa",
        "outputId": "5e26c517-a8f2-43e8-8140-b941f079db65"
      },
      "execution_count": null,
      "outputs": [
        {
          "output_type": "stream",
          "name": "stdout",
          "text": [
            "El objeto ha sido creado\n",
            "El objeto ha sido creado\n",
            "Hola , Dilan\n",
            "Hola , Stalin\n"
          ]
        }
      ]
    },
    {
      "cell_type": "code",
      "source": [
        "# prompt: Crear una clase que permita el radio, la base, la altura y calcular en funcion el area de circulo y un triangulo, agrega el area del cuadrado\n",
        "\n",
        "class Figura:\n",
        "  def __init__(self, radio, base, altura):\n",
        "    self.radio = radio\n",
        "    self.base = base\n",
        "    self.altura = altura\n",
        "\n",
        "  def area_circulo(self):\n",
        "    return 3.14159265359 * self.radio ** 2\n",
        "\n",
        "  def area_triangulo(self):\n",
        "    return (self.base * self.altura) / 2\n",
        "\n",
        "  def area_cuadrado(self):\n",
        "    return self.base ** 2\n",
        "\n",
        "# Crear una instancia de la clase Figura\n",
        "figura = Figura(5, 10, 8)\n",
        "\n",
        "# Calcular el área del círculo\n",
        "area_circulo = figura.area_circulo()\n",
        "print(\"El área del círculo es:\", area_circulo)\n",
        "\n",
        "# Calcular el área del triángulo\n",
        "area_triangulo = figura.area_triangulo()\n",
        "print(\"El área del triángulo es:\", area_triangulo)\n",
        "\n",
        "# Calcular el área del cuadrado\n",
        "area_cuadrado = figura.area_cuadrado()\n",
        "print(\"El área del cuadrado es:\", area_cuadrado)\n"
      ],
      "metadata": {
        "colab": {
          "base_uri": "https://localhost:8080/"
        },
        "id": "jPfTIueJ4TZ5",
        "outputId": "8d03b699-c8de-430a-b700-4d2609486271"
      },
      "execution_count": null,
      "outputs": [
        {
          "output_type": "stream",
          "name": "stdout",
          "text": [
            "El área del círculo es: 78.53981633975\n",
            "El área del triángulo es: 40.0\n",
            "El área del cuadrado es: 100\n"
          ]
        }
      ]
    },
    {
      "cell_type": "code",
      "source": [
        "# prompt: crear una clases que me permita ingresar dos valores nobre y edad, crear una funion que me permita ingresar todo en mayuscula y minuscula\n",
        "\n",
        "class Persona:\n",
        "    def __init__(self, nombre, edad):\n",
        "        self.nombre = nombre\n",
        "        self.edad = edad\n",
        "\n",
        "    def to_uppercase(self):\n",
        "        return self.nombre.upper(), self.edad\n",
        "\n",
        "    def to_lowercase(self):\n",
        "        return self.nombre.lower(), self.edad\n",
        "\n",
        "# Crear una instancia de la clase Persona\n",
        "persona = Persona(\"Dilan\", 22)\n",
        "\n",
        "# Obtener el nombre y la edad en mayúsculas\n",
        "nombre_mayus, edad_mayus = persona.to_uppercase()\n",
        "\n",
        "# Obtener el nombre y la edad en minúsculas\n",
        "nombre_minus, edad_minus = persona.to_lowercase()\n",
        "\n",
        "# Imprimir el nombre y la edad en mayúsculas y minúsculas\n",
        "print(f\"Nombre en mayúsculas: {nombre_mayus}, Edad en mayúsculas: {edad_mayus}\")\n",
        "print(f\"Nombre en minúsculas: {nombre_minus}, Edad en minúsculas: {edad_minus}\")\n"
      ],
      "metadata": {
        "colab": {
          "base_uri": "https://localhost:8080/"
        },
        "id": "8dJ_-ySy_V50",
        "outputId": "d9873fc7-8de9-44a6-c483-3179c29782fd"
      },
      "execution_count": null,
      "outputs": [
        {
          "output_type": "stream",
          "name": "stdout",
          "text": [
            "Nombre en mayúsculas: DILAN, Edad en mayúsculas: 22\n",
            "Nombre en minúsculas: dilan, Edad en minúsculas: 22\n"
          ]
        }
      ]
    },
    {
      "cell_type": "code",
      "source": [
        "# prompt: crear una clase que me permita sumar, restar, multiplicar, dividir y saber si el numero es par o impar\n",
        "\n",
        "class Calculadora:\n",
        "  def __init__(self, numero):\n",
        "    self.numero = numero\n",
        "\n",
        "  def sumar(self, otro_numero):\n",
        "    return self.numero + otro_numero\n",
        "\n",
        "  def restar(self, otro_numero):\n",
        "    return self.numero - otro_numero\n",
        "\n",
        "  def multiplicar(self, otro_numero):\n",
        "    return self.numero * otro_numero\n",
        "\n",
        "  def dividir(self, otro_numero):\n",
        "    return self.numero / otro_numero\n",
        "\n",
        "  def es_par(self):\n",
        "    return self.numero % 2 == 0\n",
        "\n",
        "# Crear una instancia de la clase Calculadora\n",
        "calculadora = Calculadora(5)\n",
        "\n",
        "# Sumar dos números\n",
        "suma = calculadora.sumar(10)\n",
        "print(f\"La suma es: {suma}\")\n",
        "\n",
        "# Restar dos números\n",
        "resta = calculadora.restar(3)\n",
        "print(f\"La resta es: {resta}\")\n",
        "\n",
        "# Multiplicar dos números\n",
        "multiplicacion = calculadora.multiplicar(2)\n",
        "print(f\"La multiplicación es: {multiplicacion}\")\n",
        "\n",
        "# Dividir dos números\n",
        "division = calculadora.dividir(2)\n",
        "print(f\"La división es: {division}\")\n",
        "\n",
        "# Comprobar si el número es par\n",
        "es_par = calculadora.es_par()\n",
        "print(f\"El número es par: {es_par}\")\n"
      ],
      "metadata": {
        "colab": {
          "base_uri": "https://localhost:8080/"
        },
        "id": "lf292_3QDlg3",
        "outputId": "3225a43c-c47a-4f3f-d879-6391fce8990d"
      },
      "execution_count": null,
      "outputs": [
        {
          "output_type": "stream",
          "name": "stdout",
          "text": [
            "La suma es: 15\n",
            "La resta es: 2\n",
            "La multiplicación es: 10\n",
            "La división es: 2.5\n",
            "El número es par: False\n"
          ]
        }
      ]
    }
  ]
}